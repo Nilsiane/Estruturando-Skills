{
 "cells": [
  {
   "cell_type": "markdown",
   "id": "62906375",
   "metadata": {},
   "source": [
    "# Análise de aplicativos\n",
    "\n",
    "Responder: What the project is about? \n",
    "Trata-se de uma análise sobre rentabilidade de aplicativos na playstore.\n",
    "\n",
    "responder: The goal of this project? \n",
    "Ao final do projeto pretende-se descobrir quais tipos de app atraem mais usuários."
   ]
  },
  {
   "cell_type": "code",
   "execution_count": 2,
   "id": "0810100e",
   "metadata": {},
   "outputs": [],
   "source": [
    "from csv import reader #importa leitor\n",
    "\n",
    "opened_file = open('AppleStore.csv', encoding=\"utf8\") # 1 -abre arquivo e armazena em variavel\n",
    "read_file = reader(opened_file)    # 2- ler a variavel com arquivo aberto, e armazena em outra variavel\n",
    "iOs_file = list(read_file)         # 3 - transforma arquivo em uma lista de listas  \n",
    "iOs_Head = iOs_file[0]             # 4 - Separa a primeira linha, pois aqui fica a legenda\n",
    "iOs_body = iOs_file[1:]            # 5 - Restante das colunas sem legenda  \n",
    "\n",
    "# 6 - Repete os mesmos passos para o arquivo android\n",
    "\n",
    "opened_file = open('googleplaystore.csv', encoding=\"utf8\") \n",
    "read_file = reader(opened_file)    \n",
    "goo_file = list(read_file)            \n",
    "goo_Head = goo_file[0]            \n",
    "goo_body = goo_file[1:]\n",
    "\n",
    "# Abaixo, função para explorar as linhas do arquivo e visualizar dados\n",
    "\n",
    "def explore_data(dataset, start, end, rows_and_columns=False): #recebe um arquivo, começo, fim e um bool\n",
    "    dataset_slice = dataset[start:end]                         #\"fatia\" as linhas desejadas\n",
    "    for row in dataset_slice:                                  # caminha entre as linhas e as printa\n",
    "        print(row)\n",
    "        print('\\n') # adds a new (empty) line after each row \n",
    "\n",
    "    if rows_and_columns:                                       #Caso se deseje passar um 'true', \n",
    "        print('Number of rows:', len(dataset))                 #printa tambem o numero de linhas e colunas\n",
    "        print('Number of columns:', len(dataset[0]))\n"
   ]
  },
  {
   "cell_type": "markdown",
   "id": "55058148",
   "metadata": {},
   "source": [
    "Abaixo vamos printar a legenda para identificar em quais colunas estão os dados que precisamos para o projeto"
   ]
  },
  {
   "cell_type": "code",
   "execution_count": 21,
   "id": "042c97bc",
   "metadata": {},
   "outputs": [
    {
     "name": "stdout",
     "output_type": "stream",
     "text": [
      "['id', 'track_name', 'size_bytes', 'currency', 'price', 'rating_count_tot', 'rating_count_ver', 'user_rating', 'user_rating_ver', 'ver', 'cont_rating', 'prime_genre', 'sup_devices.num', 'ipadSc_urls.num', 'lang.num', 'vpp_lic']\n",
      "\n",
      "\n",
      "['App', 'Category', 'Rating', 'Reviews', 'Size', 'Installs', 'Type', 'Price', 'Content Rating', 'Genres', 'Last Updated', 'Current Ver', 'Android Ver']\n"
     ]
    }
   ],
   "source": [
    "print(iOs_Head)\n",
    "print('\\n')\n",
    "print(goo_Head)"
   ]
  },
  {
   "cell_type": "markdown",
   "id": "cfbea392",
   "metadata": {},
   "source": [
    "Aqui adicionar quais colunas são fundamentais e o link para a legenda, explicar erro"
   ]
  },
  {
   "cell_type": "code",
   "execution_count": 3,
   "id": "7fb03718",
   "metadata": {
    "scrolled": true
   },
   "outputs": [
    {
     "name": "stdout",
     "output_type": "stream",
     "text": [
      "['Life Made WI-Fi Touchscreen Photo Frame', '1.9', '19', '3.0M', '1,000+', 'Free', '0', 'Everyone', '', 'February 11, 2018', '1.0.19', '4.0 and up']\n",
      "\n",
      "\n",
      "['App', 'Category', 'Rating', 'Reviews', 'Size', 'Installs', 'Type', 'Price', 'Content Rating', 'Genres', 'Last Updated', 'Current Ver', 'Android Ver']\n",
      "\n",
      "\n",
      "['Photo Editor & Candy Camera & Grid & ScrapBook', 'ART_AND_DESIGN', '4.1', '159', '19M', '10,000+', 'Free', '0', 'Everyone', 'Art & Design', 'January 7, 2018', '1.0.0', '4.0.3 and up']\n"
     ]
    }
   ],
   "source": [
    "print(goo_body[10472])  # incorrect row\n",
    "print('\\n')\n",
    "print(goo_Head)  # header\n",
    "print('\\n')\n",
    "print(goo_body[0])      # correct row"
   ]
  },
  {
   "cell_type": "markdown",
   "id": "a99a657d",
   "metadata": {},
   "source": [
    "Aqui notamos um erro nessa linha, portanto, vamos excluí-la"
   ]
  },
  {
   "cell_type": "code",
   "execution_count": 5,
   "id": "93b99e10",
   "metadata": {},
   "outputs": [
    {
     "name": "stdout",
     "output_type": "stream",
     "text": [
      "10841\n",
      "10840\n"
     ]
    }
   ],
   "source": [
    "#cuidado pra não rodar de novo\n",
    "print(len(goo_body))\n",
    "#del goo_body[10472]  # don't run this more than once\n",
    "print(len(goo_body))"
   ]
  },
  {
   "cell_type": "markdown",
   "id": "fdb6d965",
   "metadata": {},
   "source": [
    "Removendo itens duplicados / Using a combination of narrative and code, explain to the reader that the Google Play dataset has duplicate entries. Print a few duplicate rows to confirm."
   ]
  },
  {
   "cell_type": "code",
   "execution_count": null,
   "id": "6fe98182",
   "metadata": {},
   "outputs": [],
   "source": [
    "#codigo abaixo é apenas um demonstrativo e gera muitas linhas como output, \n",
    "#lembrar de rodar depois\n",
    "\n",
    "for app in goo_file:\n",
    "    name = app[0]\n",
    "    if name == 'Instagram' or 'twitter':\n",
    "        print(app) \n",
    "        "
   ]
  },
  {
   "cell_type": "markdown",
   "id": "47307e85",
   "metadata": {},
   "source": [
    "Há muitos casos. Abaixo codigo para identificar."
   ]
  },
  {
   "cell_type": "code",
   "execution_count": 6,
   "id": "a3d8bad6",
   "metadata": {},
   "outputs": [
    {
     "name": "stdout",
     "output_type": "stream",
     "text": [
      "Number of duplicate apps: 1181\n"
     ]
    }
   ],
   "source": [
    "#tirei os prints pra gerar menos output e ficar mais organizado por enquanto.\n",
    "\n",
    "duplicate_apps = []\n",
    "unique_apps = []\n",
    "\n",
    "for app in goo_file:\n",
    "    name = app[0]\n",
    "    if name in unique_apps:\n",
    "        duplicate_apps.append(name)\n",
    "    else:\n",
    "        unique_apps.append(name)\n",
    "    \n",
    "print('Number of duplicate apps:', len(duplicate_apps))\n",
    "#print('\\n')\n",
    "#print('Examples of duplicate apps:', duplicate_apps[:15])"
   ]
  },
  {
   "cell_type": "markdown",
   "id": "2c3fa217",
   "metadata": {},
   "source": [
    "Descrever critérios para exclusão de duplicatas"
   ]
  },
  {
   "cell_type": "code",
   "execution_count": 7,
   "id": "253af034",
   "metadata": {},
   "outputs": [
    {
     "name": "stdout",
     "output_type": "stream",
     "text": [
      "9659\n"
     ]
    }
   ],
   "source": [
    "reviews_max = {}\n",
    "\n",
    "for app in goo_body:\n",
    "    name = app[0]\n",
    "    n_reviews = float(app[3])\n",
    "    \n",
    "    if name in reviews_max and reviews_max[name] < n_reviews:\n",
    "        reviews_max[name] = n_reviews\n",
    "    elif name not in reviews_max:\n",
    "        reviews_max[name] = n_reviews\n",
    "        \n",
    "print(len(reviews_max))"
   ]
  },
  {
   "cell_type": "code",
   "execution_count": 8,
   "id": "0de43f15",
   "metadata": {},
   "outputs": [
    {
     "name": "stdout",
     "output_type": "stream",
     "text": [
      "['Photo Editor & Candy Camera & Grid & ScrapBook', 'ART_AND_DESIGN', '4.1', '159', '19M', '10,000+', 'Free', '0', 'Everyone', 'Art & Design', 'January 7, 2018', '1.0.0', '4.0.3 and up']\n",
      "\n",
      "\n",
      "['U Launcher Lite – FREE Live Cool Themes, Hide Apps', 'ART_AND_DESIGN', '4.7', '87510', '8.7M', '5,000,000+', 'Free', '0', 'Everyone', 'Art & Design', 'August 1, 2018', '1.2.4', '4.0.3 and up']\n",
      "\n",
      "\n",
      "['Sketch - Draw & Paint', 'ART_AND_DESIGN', '4.5', '215644', '25M', '50,000,000+', 'Free', '0', 'Teen', 'Art & Design', 'June 8, 2018', 'Varies with device', '4.2 and up']\n",
      "\n",
      "\n",
      "Number of rows: 9659\n",
      "Number of columns: 13\n"
     ]
    }
   ],
   "source": [
    "#Removing duplicates\n",
    "\n",
    "android_clean = []\n",
    "already_added = []\n",
    "\n",
    "for app in goo_body:\n",
    "    name = app[0]\n",
    "    n_reviews = float(app[3])\n",
    "    \n",
    "    if (n_reviews == reviews_max[name]) and (name not in already_added):\n",
    "        android_clean.append(app)\n",
    "        already_added.append(name)\n",
    "        \n",
    "explore_data(android_clean, 0, 3, True)"
   ]
  },
  {
   "cell_type": "markdown",
   "id": "4740e228",
   "metadata": {},
   "source": [
    "Para resolver, vamos oferecer um range de até 3 caracters fora da tabela ASCII"
   ]
  },
  {
   "cell_type": "code",
   "execution_count": 9,
   "id": "d2097bcb",
   "metadata": {},
   "outputs": [
    {
     "name": "stdout",
     "output_type": "stream",
     "text": [
      "True\n",
      "False\n",
      "True\n",
      "True\n"
     ]
    }
   ],
   "source": [
    "def separa_idioma (string):\n",
    "    aux = 0\n",
    "    for letra in string:\n",
    "        if ord(letra) > 127:\n",
    "            aux = (aux + 1)\n",
    "    if aux > 3:\n",
    "        return False\n",
    "    else:\n",
    "        return True\n",
    "           \n",
    "  #Abaixo alguns prints para testar a função      \n",
    "print(separa_idioma('Instagram'))\n",
    "print(separa_idioma('爱奇艺PPS -《欢乐颂2》电视剧热播'))\n",
    "print(separa_idioma('Docs To Go™ Free Office Suite'))\n",
    "print(separa_idioma('Instachat 😜'))"
   ]
  },
  {
   "cell_type": "markdown",
   "id": "12d9fbeb",
   "metadata": {},
   "source": [
    "Sabendo que a função funciona, vamos aplicá-la as linhas da nossa base de dados"
   ]
  },
  {
   "cell_type": "code",
   "execution_count": 10,
   "id": "ef6daa33",
   "metadata": {},
   "outputs": [],
   "source": [
    "goo_english_apps =[]\n",
    "iOs_english_apps =[]\n",
    "\n",
    "for app in android_clean:\n",
    "    nome = app[0]\n",
    "    teste = separa_idioma(app[0]) \n",
    "    if teste:\n",
    "        goo_english_apps.append(app)\n",
    "        \n",
    "for app in iOs_body:\n",
    "    nome = app[0]\n",
    "    teste = separa_idioma(app[0]) \n",
    "    if teste:\n",
    "        iOs_english_apps.append(app)\n",
    "\n",
    "    \n",
    "#printando para testar\n",
    "\n",
    "#explore_data(goo_english_apps, 0, 1, True)\n",
    "#explore_data(iOs_english_apps, 0, 1, True)"
   ]
  },
  {
   "cell_type": "markdown",
   "id": "3b372275",
   "metadata": {},
   "source": [
    "Abaixo vamos isolar os apps free"
   ]
  },
  {
   "cell_type": "code",
   "execution_count": 11,
   "id": "5fecefdc",
   "metadata": {},
   "outputs": [
    {
     "name": "stdout",
     "output_type": "stream",
     "text": [
      "8864\n",
      "4056\n"
     ]
    }
   ],
   "source": [
    "goo_final = []\n",
    "iOs_final = []\n",
    "for app in goo_english_apps:\n",
    "    preco = app[7]\n",
    "    if preco == '0':\n",
    "        goo_final.append(app)\n",
    "        \n",
    "for app in iOs_english_apps:\n",
    "    preco = app[4]\n",
    "    if preco == '0.0':\n",
    "        iOs_final.append(app)\n",
    "        \n",
    "print(len(goo_final))\n",
    "print(len(iOs_final)) #Vai ser preciso ajustar o iOs\n"
   ]
  },
  {
   "cell_type": "markdown",
   "id": "684dbbed",
   "metadata": {},
   "source": [
    "Now, we are going to initiate the analysis. Give readers more context into why we want to find an app profile that fits both the App Store and Google Play. Explain our validation strategy for an app idea."
   ]
  },
  {
   "cell_type": "code",
   "execution_count": 13,
   "id": "7242a972",
   "metadata": {},
   "outputs": [
    {
     "name": "stdout",
     "output_type": "stream",
     "text": [
      "FAMILY : 18.907942238267147\n",
      "GAME : 9.724729241877256\n",
      "TOOLS : 8.461191335740072\n",
      "BUSINESS : 4.591606498194946\n",
      "LIFESTYLE : 3.9034296028880866\n",
      "PRODUCTIVITY : 3.892148014440433\n",
      "FINANCE : 3.7003610108303246\n",
      "MEDICAL : 3.531137184115524\n",
      "SPORTS : 3.395758122743682\n",
      "PERSONALIZATION : 3.3167870036101084\n",
      "COMMUNICATION : 3.2378158844765346\n",
      "HEALTH_AND_FITNESS : 3.0798736462093865\n",
      "PHOTOGRAPHY : 2.944494584837545\n",
      "NEWS_AND_MAGAZINES : 2.7978339350180503\n",
      "SOCIAL : 2.6624548736462095\n",
      "TRAVEL_AND_LOCAL : 2.33528880866426\n",
      "SHOPPING : 2.2450361010830324\n",
      "BOOKS_AND_REFERENCE : 2.1435018050541514\n",
      "DATING : 1.861462093862816\n",
      "VIDEO_PLAYERS : 1.7937725631768955\n",
      "MAPS_AND_NAVIGATION : 1.3989169675090252\n",
      "FOOD_AND_DRINK : 1.2409747292418771\n",
      "EDUCATION : 1.1620036101083033\n",
      "ENTERTAINMENT : 0.9589350180505415\n",
      "LIBRARIES_AND_DEMO : 0.9363718411552346\n",
      "AUTO_AND_VEHICLES : 0.9250902527075812\n",
      "HOUSE_AND_HOME : 0.8235559566787004\n",
      "WEATHER : 0.8009927797833934\n",
      "EVENTS : 0.7107400722021661\n",
      "PARENTING : 0.6543321299638989\n",
      "ART_AND_DESIGN : 0.6430505415162455\n",
      "COMICS : 0.6204873646209386\n",
      "BEAUTY : 0.5979241877256317\n",
      "Tools : 8.449909747292418\n",
      "Entertainment : 6.069494584837545\n",
      "Education : 5.347472924187725\n",
      "Business : 4.591606498194946\n",
      "Productivity : 3.892148014440433\n",
      "Lifestyle : 3.892148014440433\n",
      "Finance : 3.7003610108303246\n",
      "Medical : 3.531137184115524\n",
      "Sports : 3.463447653429603\n",
      "Personalization : 3.3167870036101084\n",
      "Communication : 3.2378158844765346\n",
      "Action : 3.1024368231046933\n",
      "Health & Fitness : 3.0798736462093865\n",
      "Photography : 2.944494584837545\n",
      "News & Magazines : 2.7978339350180503\n",
      "Social : 2.6624548736462095\n",
      "Travel & Local : 2.3240072202166067\n",
      "Shopping : 2.2450361010830324\n",
      "Books & Reference : 2.1435018050541514\n",
      "Simulation : 2.0419675090252705\n",
      "Dating : 1.861462093862816\n",
      "Arcade : 1.8501805054151623\n",
      "Video Players & Editors : 1.7712093862815883\n",
      "Casual : 1.7599277978339352\n",
      "Maps & Navigation : 1.3989169675090252\n",
      "Food & Drink : 1.2409747292418771\n",
      "Puzzle : 1.128158844765343\n",
      "Racing : 0.9927797833935018\n",
      "Role Playing : 0.9363718411552346\n",
      "Libraries & Demo : 0.9363718411552346\n",
      "Auto & Vehicles : 0.9250902527075812\n",
      "Strategy : 0.9138086642599278\n",
      "House & Home : 0.8235559566787004\n",
      "Weather : 0.8009927797833934\n",
      "Events : 0.7107400722021661\n",
      "Adventure : 0.6768953068592057\n",
      "Comics : 0.6092057761732852\n",
      "Beauty : 0.5979241877256317\n",
      "Art & Design : 0.5979241877256317\n",
      "Parenting : 0.4963898916967509\n",
      "Card : 0.45126353790613716\n",
      "Casino : 0.42870036101083037\n",
      "Trivia : 0.41741877256317694\n",
      "Educational;Education : 0.39485559566787\n",
      "Board : 0.3835740072202166\n",
      "Educational : 0.3722924187725632\n",
      "Education;Education : 0.33844765342960287\n",
      "Word : 0.2594765342960289\n",
      "Casual;Pretend Play : 0.236913357400722\n",
      "Music : 0.2030685920577617\n",
      "Racing;Action & Adventure : 0.16922382671480143\n",
      "Puzzle;Brain Games : 0.16922382671480143\n",
      "Entertainment;Music & Video : 0.16922382671480143\n",
      "Casual;Brain Games : 0.13537906137184114\n",
      "Casual;Action & Adventure : 0.13537906137184114\n",
      "Arcade;Action & Adventure : 0.12409747292418773\n",
      "Action;Action & Adventure : 0.10153429602888085\n",
      "Educational;Pretend Play : 0.09025270758122744\n",
      "Simulation;Action & Adventure : 0.078971119133574\n",
      "Parenting;Education : 0.078971119133574\n",
      "Entertainment;Brain Games : 0.078971119133574\n",
      "Board;Brain Games : 0.078971119133574\n",
      "Parenting;Music & Video : 0.06768953068592057\n",
      "Educational;Brain Games : 0.06768953068592057\n",
      "Casual;Creativity : 0.06768953068592057\n",
      "Art & Design;Creativity : 0.06768953068592057\n",
      "Education;Pretend Play : 0.056407942238267145\n",
      "Role Playing;Pretend Play : 0.04512635379061372\n",
      "Education;Creativity : 0.04512635379061372\n",
      "Role Playing;Action & Adventure : 0.033844765342960284\n",
      "Puzzle;Action & Adventure : 0.033844765342960284\n",
      "Entertainment;Creativity : 0.033844765342960284\n",
      "Entertainment;Action & Adventure : 0.033844765342960284\n",
      "Educational;Creativity : 0.033844765342960284\n",
      "Educational;Action & Adventure : 0.033844765342960284\n",
      "Education;Music & Video : 0.033844765342960284\n",
      "Education;Brain Games : 0.033844765342960284\n",
      "Education;Action & Adventure : 0.033844765342960284\n",
      "Adventure;Action & Adventure : 0.033844765342960284\n",
      "Video Players & Editors;Music & Video : 0.02256317689530686\n",
      "Sports;Action & Adventure : 0.02256317689530686\n",
      "Simulation;Pretend Play : 0.02256317689530686\n",
      "Puzzle;Creativity : 0.02256317689530686\n",
      "Music;Music & Video : 0.02256317689530686\n",
      "Entertainment;Pretend Play : 0.02256317689530686\n",
      "Casual;Education : 0.02256317689530686\n",
      "Board;Action & Adventure : 0.02256317689530686\n",
      "Video Players & Editors;Creativity : 0.01128158844765343\n",
      "Trivia;Education : 0.01128158844765343\n",
      "Travel & Local;Action & Adventure : 0.01128158844765343\n",
      "Tools;Education : 0.01128158844765343\n",
      "Strategy;Education : 0.01128158844765343\n",
      "Strategy;Creativity : 0.01128158844765343\n",
      "Strategy;Action & Adventure : 0.01128158844765343\n",
      "Simulation;Education : 0.01128158844765343\n",
      "Role Playing;Brain Games : 0.01128158844765343\n",
      "Racing;Pretend Play : 0.01128158844765343\n",
      "Puzzle;Education : 0.01128158844765343\n",
      "Parenting;Brain Games : 0.01128158844765343\n",
      "Music & Audio;Music & Video : 0.01128158844765343\n",
      "Lifestyle;Pretend Play : 0.01128158844765343\n",
      "Lifestyle;Education : 0.01128158844765343\n",
      "Health & Fitness;Education : 0.01128158844765343\n",
      "Health & Fitness;Action & Adventure : 0.01128158844765343\n",
      "Entertainment;Education : 0.01128158844765343\n",
      "Communication;Creativity : 0.01128158844765343\n",
      "Comics;Creativity : 0.01128158844765343\n",
      "Casual;Music & Video : 0.01128158844765343\n",
      "Card;Action & Adventure : 0.01128158844765343\n",
      "Books & Reference;Education : 0.01128158844765343\n",
      "Art & Design;Pretend Play : 0.01128158844765343\n",
      "Art & Design;Action & Adventure : 0.01128158844765343\n",
      "Arcade;Pretend Play : 0.01128158844765343\n",
      "Adventure;Education : 0.01128158844765343\n",
      "Games : 55.64595660749507\n",
      "Entertainment : 8.234714003944774\n",
      "Photo & Video : 4.117357001972387\n",
      "Social Networking : 3.5256410256410255\n",
      "Education : 3.2544378698224854\n",
      "Shopping : 2.983234714003945\n",
      "Utilities : 2.687376725838264\n",
      "Lifestyle : 2.3175542406311638\n",
      "Finance : 2.0710059171597637\n",
      "Sports : 1.947731755424063\n",
      "Health & Fitness : 1.8737672583826428\n",
      "Music : 1.6518737672583828\n",
      "Book : 1.6272189349112427\n",
      "Productivity : 1.5285996055226825\n",
      "News : 1.4299802761341223\n",
      "Travel : 1.3806706114398422\n",
      "Food & Drink : 1.0601577909270217\n",
      "Weather : 0.7642998027613412\n",
      "Reference : 0.4930966469428008\n",
      "Navigation : 0.4930966469428008\n",
      "Business : 0.4930966469428008\n",
      "Catalogs : 0.22189349112426035\n",
      "Medical : 0.19723865877712032\n"
     ]
    }
   ],
   "source": [
    "def freq_table(dataset, index):\n",
    "    frequence = {}\n",
    "    total = 0\n",
    "    for row in dataset:\n",
    "        total += 1\n",
    "        valor = row[index]\n",
    "        if valor in frequence:\n",
    "            frequence[valor] += 1\n",
    "        else:\n",
    "            frequence[valor] = 1\n",
    "    table_percentages = {}\n",
    "    for key in frequence:\n",
    "        percentage = (frequence[key] / total) * 100\n",
    "        table_percentages[key] = percentage \n",
    "    return table_percentages\n",
    "    \n",
    "def display_table(dataset, index):\n",
    "    table = freq_table(dataset, index)\n",
    "    table_display = []\n",
    "    for key in table:\n",
    "        key_val_as_tuple = (table[key], key)\n",
    "        table_display.append(key_val_as_tuple)\n",
    "        \n",
    "    table_sorted = sorted(table_display, reverse = True)\n",
    "    for entry in table_sorted:\n",
    "        print(entry[1], ':', entry[0])\n",
    "display_table(goo_final, 1)\n",
    "display_table(goo_final, -4)\n",
    "display_table(iOs_final, -5)"
   ]
  },
  {
   "cell_type": "markdown",
   "id": "6673f21b",
   "metadata": {},
   "source": [
    "Discussão sobre os primeiros resultados aqui"
   ]
  },
  {
   "cell_type": "code",
   "execution_count": 15,
   "id": "2eb7a7c0",
   "metadata": {},
   "outputs": [
    {
     "name": "stdout",
     "output_type": "stream",
     "text": [
      "Social Networking : 53078.195804195806\n",
      "Photo & Video : 27249.892215568863\n",
      "Games : 18924.68896765618\n",
      "Music : 56482.02985074627\n",
      "Reference : 67447.9\n",
      "Health & Fitness : 19952.315789473683\n",
      "Weather : 47220.93548387097\n",
      "Utilities : 14010.100917431193\n",
      "Travel : 20216.01785714286\n",
      "Shopping : 18746.677685950413\n",
      "News : 15892.724137931034\n",
      "Navigation : 25972.05\n",
      "Lifestyle : 8978.308510638299\n",
      "Entertainment : 10822.961077844311\n",
      "Food & Drink : 20179.093023255813\n",
      "Sports : 20128.974683544304\n",
      "Book : 8498.333333333334\n",
      "Finance : 13522.261904761905\n",
      "Education : 6266.333333333333\n",
      "Productivity : 19053.887096774193\n",
      "Business : 6367.8\n",
      "Catalogs : 1779.5555555555557\n",
      "Medical : 459.75\n",
      "1,000,000+ : 15.726534296028879\n",
      "100,000+ : 11.552346570397113\n",
      "10,000,000+ : 10.548285198555957\n",
      "10,000+ : 10.198555956678701\n",
      "1,000+ : 8.393501805054152\n",
      "100+ : 6.915613718411552\n",
      "5,000,000+ : 6.825361010830325\n",
      "500,000+ : 5.561823104693141\n",
      "50,000+ : 4.7721119133574\n",
      "5,000+ : 4.512635379061372\n",
      "10+ : 3.5424187725631766\n",
      "500+ : 3.2490974729241873\n",
      "50,000,000+ : 2.3014440433213\n",
      "100,000,000+ : 2.1322202166064983\n",
      "50+ : 1.917870036101083\n",
      "5+ : 0.78971119133574\n",
      "1+ : 0.5076714801444043\n",
      "500,000,000+ : 0.2707581227436823\n",
      "1,000,000,000+ : 0.22563176895306858\n",
      "0+ : 0.04512635379061372\n",
      "0 : 0.01128158844765343\n"
     ]
    }
   ],
   "source": [
    "#most popular apps by genre iOs\n",
    "\n",
    "genres_ios = freq_table(iOs_final, -5)\n",
    "\n",
    "for genre in genres_ios:\n",
    "    total = 0\n",
    "    len_genre = 0\n",
    "    for app in iOs_final:\n",
    "        genre_app = app[-5]\n",
    "        if genre_app == genre:            \n",
    "            n_ratings = float(app[5])\n",
    "            total += n_ratings\n",
    "            len_genre += 1\n",
    "    avg_n_ratings = total / len_genre\n",
    "    print(genre, ':', avg_n_ratings)\n",
    "    \n",
    "display_table(goo_final, 5) # the Installs columns"
   ]
  },
  {
   "cell_type": "code",
   "execution_count": 16,
   "id": "4dd0fc7c",
   "metadata": {},
   "outputs": [
    {
     "name": "stdout",
     "output_type": "stream",
     "text": [
      "ART_AND_DESIGN : 1986335.0877192982\n",
      "AUTO_AND_VEHICLES : 647317.8170731707\n",
      "BEAUTY : 513151.88679245283\n",
      "BOOKS_AND_REFERENCE : 8767811.894736841\n",
      "BUSINESS : 1712290.1474201474\n",
      "COMICS : 817657.2727272727\n",
      "COMMUNICATION : 38456119.167247385\n",
      "DATING : 854028.8303030303\n",
      "EDUCATION : 1833495.145631068\n",
      "ENTERTAINMENT : 11640705.88235294\n",
      "EVENTS : 253542.22222222222\n",
      "FINANCE : 1387692.475609756\n",
      "FOOD_AND_DRINK : 1924897.7363636363\n",
      "HEALTH_AND_FITNESS : 4188821.9853479853\n",
      "HOUSE_AND_HOME : 1331540.5616438356\n",
      "LIBRARIES_AND_DEMO : 638503.734939759\n",
      "LIFESTYLE : 1437816.2687861272\n",
      "GAME : 15588015.603248259\n",
      "FAMILY : 3695641.8198090694\n",
      "MEDICAL : 120550.61980830671\n",
      "SOCIAL : 23253652.127118643\n",
      "SHOPPING : 7036877.311557789\n",
      "PHOTOGRAPHY : 17840110.40229885\n",
      "SPORTS : 3638640.1428571427\n",
      "TRAVEL_AND_LOCAL : 13984077.710144928\n",
      "TOOLS : 10801391.298666667\n",
      "PERSONALIZATION : 5201482.6122448975\n",
      "PRODUCTIVITY : 16787331.344927534\n",
      "PARENTING : 542603.6206896552\n",
      "WEATHER : 5074486.197183099\n",
      "VIDEO_PLAYERS : 24727872.452830188\n",
      "NEWS_AND_MAGAZINES : 9549178.467741935\n",
      "MAPS_AND_NAVIGATION : 4056941.7741935486\n"
     ]
    }
   ],
   "source": [
    "#Most Popular Apps by Genre on Google Play\n",
    "\n",
    "categories_android = freq_table(goo_final, 1)\n",
    "\n",
    "for category in categories_android:\n",
    "    total = 0\n",
    "    len_category = 0\n",
    "    for app in goo_final:\n",
    "        category_app = app[1]\n",
    "        if category_app == category:            \n",
    "            n_installs = app[5]\n",
    "            n_installs = n_installs.replace(',', '')\n",
    "            n_installs = n_installs.replace('+', '')\n",
    "            total += float(n_installs)\n",
    "            len_category += 1\n",
    "    avg_n_installs = total / len_category\n",
    "    print(category, ':', avg_n_installs)"
   ]
  },
  {
   "cell_type": "markdown",
   "id": "f7c4e1cf",
   "metadata": {},
   "source": [
    "CONCLUSÃO"
   ]
  }
 ],
 "metadata": {
  "kernelspec": {
   "display_name": "Python 3 (ipykernel)",
   "language": "python",
   "name": "python3"
  },
  "language_info": {
   "codemirror_mode": {
    "name": "ipython",
    "version": 3
   },
   "file_extension": ".py",
   "mimetype": "text/x-python",
   "name": "python",
   "nbconvert_exporter": "python",
   "pygments_lexer": "ipython3",
   "version": "3.10.5"
  }
 },
 "nbformat": 4,
 "nbformat_minor": 5
}
